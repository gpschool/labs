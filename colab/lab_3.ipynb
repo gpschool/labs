{
 "cells": [
  {
   "cell_type": "markdown",
   "metadata": {},
   "source": [
    "# Lab 3: Global Optimization with Gaussian Processes"
   ]
  },
  {
   "cell_type": "markdown",
   "metadata": {},
   "source": [
    "## Gaussian Process Summer School 2022"
   ]
  },
  {
   "cell_type": "markdown",
   "metadata": {},
   "source": [
    "The goal of this lab session is to illustrate the concepts seen during the tutorial in Gaussian processes for Global optimization. We will focus on two aspects of Bayesian Optimization (BO): (1) the choice of the model (2) the choice of the acquisition function.\n",
    "\n",
    "The technical material associated to the methods used in this lab can be found in the slides of the tutorial. "
   ]
  },
  {
   "cell_type": "markdown",
   "metadata": {},
   "source": [
    "## 1. Getting started"
   ]
  },
  {
   "cell_type": "markdown",
   "metadata": {},
   "source": [
    "Now, just as in the previous lab, specify to include plots in the notebook and to import relevant libraries."
   ]
  },
  {
   "cell_type": "code",
   "execution_count": null,
   "metadata": {},
   "outputs": [],
   "source": [
    "# Install prerequisite packages\n",
    "!pip install git+https://github.com/connorfuhrman/paramz@connorfuhrman/np_type_alias_dep git+https://github.com/m-lyon/GPy emukit"
   ]
  },
  {
   "cell_type": "code",
   "execution_count": null,
   "metadata": {},
   "outputs": [],
   "source": [
    "%matplotlib inline\n",
    "import matplotlib.pyplot as plt\n",
    " \n",
    "import GPy\n",
    "import numpy as np\n",
    "from numpy.random import seed\n",
    "seed(12345)"
   ]
  },
  {
   "cell_type": "markdown",
   "metadata": {},
   "source": [
    "We will first define some utility functions for plotting. The next cell can be skimmed over as it contains no information relevent to learning about BO."
   ]
  },
  {
   "cell_type": "code",
   "execution_count": null,
   "metadata": {},
   "outputs": [],
   "source": [
    "import numpy as np\n",
    "import matplotlib.pyplot as plt\n",
    "from emukit.core import ParameterSpace\n",
    "from emukit.bayesian_optimization.loops import BayesianOptimizationLoop\n",
    "\n",
    "\n",
    "def plot_acquisition(emukit_bo_loop: BayesianOptimizationLoop, space: ParameterSpace,\n",
    "                     label_x: str=None, label_y: str=None):\n",
    "    \"\"\"\n",
    "    Plots the model and the acquisition function.\n",
    "        if self.input_dim = 1: Plots data, mean and variance in one plot and the acquisition function in another plot\n",
    "        if self.input_dim = 2: as before but it separates the mean and variance of the model in two different plots\n",
    "    :param label_x: Graph's x-axis label, if None it is renamed to 'x' (1D) or 'X1' (2D)\n",
    "    :param label_y: Graph's y-axis label, if None it is renamed to 'f(x)' (1D) or 'X2' (2D)\n",
    "    \"\"\"\n",
    "    return _plot_acquisition(space.get_bounds(),\n",
    "                            emukit_bo_loop.loop_state.X.shape[1],\n",
    "                            emukit_bo_loop.model,\n",
    "                            emukit_bo_loop.model.X,\n",
    "                            emukit_bo_loop.model.Y,\n",
    "                            emukit_bo_loop.candidate_point_calculator.acquisition,\n",
    "                            emukit_bo_loop.get_next_points(None),\n",
    "                            label_x,\n",
    "                            label_y)\n",
    "\n",
    "def _plot_acquisition(bounds, input_dim, model, Xdata, Ydata, acquisition_function, suggested_sample,\n",
    "                     label_x=None, label_y=None, color_by_step=True):\n",
    "    '''\n",
    "    Plots of the model and the acquisition function in 1D and 2D examples.\n",
    "    '''\n",
    "\n",
    "    if input_dim ==1:\n",
    "        # Plots for 1D input\n",
    "        if not label_x:\n",
    "            label_x = 'x'\n",
    "\n",
    "        if not label_y:\n",
    "            label_y = 'f(x)'\n",
    "\n",
    "        x_grid = np.arange(bounds[0][0], bounds[0][1], 0.001)\n",
    "        x_grid = x_grid.reshape(len(x_grid),1)\n",
    "        acq = acquisition_function.evaluate(x_grid)\n",
    "        acq_normalized = (acq - min(acq))/(max(acq) - min(acq))\n",
    "        m, v = model.predict(x_grid)\n",
    "\n",
    "        upper_conf_bound = m[:, 0] + 1.96 * np.sqrt(v)[:, 0]\n",
    "        lower_conf_bound = m[:, 0] - 1.96 * np.sqrt(v)[:, 0]\n",
    "\n",
    "        plt.fill_between(x_grid[:, 0], upper_conf_bound, lower_conf_bound, color='b', alpha=0.2)\n",
    "        plt.plot(x_grid, lower_conf_bound, 'k-', alpha=0.2)\n",
    "        plt.plot(x_grid, upper_conf_bound, 'k-', alpha=0.2)\n",
    "        plt.plot(x_grid, m, 'k-', lw=1, alpha=0.6)\n",
    "\n",
    "        plt.plot(Xdata, Ydata, 'r.', markersize=10)\n",
    "        plt.axvline(x=suggested_sample[len(suggested_sample)-1], color='r')\n",
    "        factor = max(upper_conf_bound) - min(lower_conf_bound)\n",
    "\n",
    "        plt.plot(x_grid, 0.2*factor*acq_normalized - abs(min(lower_conf_bound)) - 0.25*factor, 'r-',\n",
    "                 lw=2, label='Acquisition')\n",
    "        plt.xlabel(label_x)\n",
    "        plt.ylabel(label_y)\n",
    "        plt.ylim(min(lower_conf_bound) - 0.25*factor,  max(upper_conf_bound) + 0.05*factor)\n",
    "        plt.axvline(x=suggested_sample[len(suggested_sample)-1],color='r')\n",
    "        plt.legend(loc='upper left')\n",
    "\n",
    "    elif input_dim == 2:\n",
    "\n",
    "        if not label_x:\n",
    "            label_x = 'X1'\n",
    "\n",
    "        if not label_y:\n",
    "            label_y = 'X2'\n",
    "\n",
    "        n = Xdata.shape[0]\n",
    "        colors = np.linspace(0, 1, n)\n",
    "        cmap = plt.cm.Reds\n",
    "        norm = plt.Normalize(vmin=0, vmax=1)\n",
    "        points_var_color = lambda X: plt.scatter(\n",
    "            X[:,0], X[:,1], c=colors, label=u'Observations', cmap=cmap, norm=norm)\n",
    "        points_one_color = lambda X: plt.plot(\n",
    "            X[:,0], X[:,1], 'r.', markersize=10, label=u'Observations')\n",
    "        X1 = np.linspace(bounds[0][0], bounds[0][1], 200)\n",
    "        X2 = np.linspace(bounds[1][0], bounds[1][1], 200)\n",
    "        x1, x2 = np.meshgrid(X1, X2)\n",
    "        X = np.hstack((x1.reshape(200*200,1),x2.reshape(200*200,1)))\n",
    "        acq = acquisition_function.evaluate(X)\n",
    "        acq_normalized = (acq - min(acq))/(max(acq) - min(acq))\n",
    "        acq_normalized = acq_normalized.reshape((200,200))\n",
    "        m, v = model.predict(X)\n",
    "        plt.figure(figsize=(15,5))\n",
    "        plt.subplot(1, 3, 1)\n",
    "        plt.contourf(X1, X2, m.reshape(200,200),100)\n",
    "        plt.colorbar()\n",
    "        if color_by_step:\n",
    "            points_var_color(Xdata)\n",
    "        else:\n",
    "            points_one_color(Xdata)\n",
    "        plt.ylabel(label_y)\n",
    "        plt.title('Posterior mean')\n",
    "        plt.axis((bounds[0][0],bounds[0][1],bounds[1][0],bounds[1][1]))\n",
    "        ##\n",
    "        plt.subplot(1, 3, 2)\n",
    "        plt.contourf(X1, X2, np.sqrt(v.reshape(200,200)),100)\n",
    "        plt.colorbar()\n",
    "        if color_by_step:\n",
    "            points_var_color(Xdata)\n",
    "        else:\n",
    "            points_one_color(Xdata)\n",
    "        plt.xlabel(label_x)\n",
    "        plt.ylabel(label_y)\n",
    "        plt.title('Posterior sd.')\n",
    "        plt.axis((bounds[0][0],bounds[0][1],bounds[1][0],bounds[1][1]))\n",
    "        ##\n",
    "        plt.subplot(1, 3, 3)\n",
    "        plt.contourf(X1, X2, acq_normalized,100)\n",
    "        plt.colorbar()\n",
    "        plt.plot(suggested_sample[:,0],suggested_sample[:,1],'m.', markersize=10)\n",
    "        plt.xlabel(label_x)\n",
    "        plt.ylabel(label_y)\n",
    "        plt.title('Acquisition function')\n",
    "        plt.axis((bounds[0][0],bounds[0][1],bounds[1][0],bounds[1][1]))\n",
    "\n",
    "    else:\n",
    "        raise ValueError(f'Cannot plot inputs higher than 2D, {input_dim} given')\n",
    "\n",
    "def plot_convergence(X, Y):\n",
    "    '''\n",
    "    Plots the convergence of standard Bayesian optimization algorithms.\n",
    "\n",
    "    :param X: Locations of evaluated points\n",
    "    :param Y: Results of evaluations\n",
    "\n",
    "    '''\n",
    "    n = X.shape[0]\n",
    "\n",
    "    ## Distances between consecutive x's\n",
    "    aux = (X[1:n,:] - X[0:n-1,:])**2\n",
    "    distances = np.sqrt(aux.sum(axis=1))\n",
    "\n",
    "    plt.figure(figsize=(10,5))\n",
    "    plt.subplot(1, 2, 1)\n",
    "    plt.plot(list(range(n-1)), distances, '-ro')\n",
    "    plt.xlabel('Iteration')\n",
    "    plt.ylabel('d(x[n], x[n-1])')\n",
    "    plt.title('Distance between consecutive x\\'s')\n",
    "\n",
    "    # Best found value at each iteration\n",
    "    best_Y = np.minimum.accumulate(Y)\n",
    "\n",
    "    plt.subplot(1, 2, 2)\n",
    "    plt.plot(list(range(n)), best_Y, '-o')\n",
    "    plt.title('Value of the best selected sample')\n",
    "    plt.xlabel('Iteration')\n",
    "    plt.ylabel('Best y')\n",
    "\n"
   ]
  },
  {
   "cell_type": "markdown",
   "metadata": {},
   "source": [
    "### Remembering the basics\n",
    "\n",
    "Before starting with the lab, remember that (BO) is an heuristic for global optimization of black-box functions. Let $f: {\\mathcal X} \\to R$ be a 'well behaved' continuous function defined on a compact subset ${\\mathcal X} \\subseteq R^d$. Our goal is to solve the global optimization problem of finding\n",
    "$$ x_{M} = \\arg \\min_{x \\in {\\mathcal X}} f(x). $$\n",
    "\n",
    "We assume that $f$ is a *black-box* from which only perturbed evaluations of the type $y_i = f(x_i) + \\epsilon_i$, with $\\epsilon_i \\sim\\mathcal{N}(0,\\sigma^2)$, are  available. The goal is to find $x_M$ by minimizing the number of evaluations of $f$. To do this, we need to determine two crucial bits:\n",
    "\n",
    "1. A **Gaussian process** that will capture the our beliefs on $f$. \n",
    "\n",
    "2. An **acquisition function** that based on the model will be useful to determine where to collect new evaluations of f. \n",
    "\n",
    "Remember that every time a new data point is collected the model is updated and the acquisition function optimized again. "
   ]
  },
  {
   "cell_type": "markdown",
   "metadata": {},
   "source": [
    "### Running example\n",
    "\n",
    "We start with a one-dimensional example. Consider here the Forrester function \n",
    "\n",
    "$$ f(x) =(6x-2)^2 \\sin(12x-4) $$\n",
    "\n",
    "defined on the interval $[0, 1]$.\n",
    "\n",
    "The minimum of this function is located at $x_{min}=0.78$. We assume that the evaluations of $f$ to are perturbed by zero-mean Gaussian noise with standard deviation 0.25. The Forrester function is part of the benchmark of functions of Emukit. To create the true function, the perturbed version and the boundaries of the problem you need to run the following cell. "
   ]
  },
  {
   "cell_type": "code",
   "execution_count": null,
   "metadata": {},
   "outputs": [],
   "source": [
    "from emukit.test_functions import forrester_function\n",
    "\n",
    "f_true, bounds = forrester_function()             # true function and parameter space\n",
    "f_objective, _ = forrester_function(noise_standard_deviation=.25)        # noisy version, will be used as noisy objective\n"
   ]
  },
  {
   "cell_type": "markdown",
   "metadata": {},
   "source": [
    "Let's plot the true $f$:"
   ]
  },
  {
   "cell_type": "code",
   "execution_count": null,
   "metadata": {},
   "outputs": [],
   "source": [
    "x_plot = np.linspace(bounds.parameters[0].min, bounds.parameters[0].max, 200)[:, None]\n",
    "y_plot = f_true(x_plot)\n",
    "\n",
    "plt.plot(x_plot, y_plot)\n",
    "plt.xlabel(r\"$x$\")\n",
    "plt.ylabel(r\"$f(x)$\")\n",
    "plt.show()"
   ]
  },
  {
   "cell_type": "markdown",
   "metadata": {},
   "source": [
    "`f_objective` is the function that we are going to optimize. You can define your own objective but it should be able to map any numpy array of dimension $n\\times d$ (inputs) to a numpy array of dimension $n\\times 1$ (outputs). For instance:"
   ]
  },
  {
   "cell_type": "code",
   "execution_count": null,
   "metadata": {},
   "outputs": [],
   "source": [
    "n = 8\n",
    "x = np.random.rand(n).reshape(n,1)\n",
    "x"
   ]
  },
  {
   "cell_type": "code",
   "execution_count": null,
   "metadata": {},
   "outputs": [],
   "source": [
    "f_objective(x)"
   ]
  },
  {
   "cell_type": "markdown",
   "metadata": {},
   "source": [
    "In Emukit the bounds of the problem are defined as a `ParameterSpace` object. For real valued parameters the upper and lower limits of the box in which the optimization will be performed shall be provided. In our example:"
   ]
  },
  {
   "cell_type": "code",
   "execution_count": null,
   "metadata": {},
   "outputs": [],
   "source": [
    "from emukit.core import ParameterSpace, ContinuousParameter\n",
    "\n",
    "custom_bounds = ParameterSpace([\n",
    "    ContinuousParameter('var_1', 0.0, 1.0)\n",
    "])"
   ]
  },
  {
   "cell_type": "markdown",
   "metadata": {},
   "source": [
    "To use BO to solve this problem, we need to create an Emukit object in which we need to specify the following elements: \n",
    "* The function to optimize.\n",
    "* The box constrains of the problem.\n",
    "* The model, that is fixed by default to be a GP with a SE kernel.\n",
    "* The acquisition function (and its parameters)."
   ]
  },
  {
   "cell_type": "markdown",
   "metadata": {},
   "source": [
    "We create an SE kernel as we do in GPy"
   ]
  },
  {
   "cell_type": "code",
   "execution_count": null,
   "metadata": {},
   "outputs": [],
   "source": [
    "from emukit.model_wrappers.gpy_model_wrappers import GPyModelWrapper\n",
    "\n",
    "X_init = np.random.rand(3).reshape(3,1)\n",
    "Y_init = f_objective(X_init)\n",
    "\n",
    "k = GPy.kern.RBF(1)\n",
    "gpy_model = GPy.models.GPRegression(X_init, Y_init, k)\n",
    "emukit_model = GPyModelWrapper(gpy_model)"
   ]
  },
  {
   "cell_type": "markdown",
   "metadata": {},
   "source": [
    "And now we have all the elements to start optimizing $f$. We create the optimization problem instance. Note that you don't need to specify the evaluation budget of. This is because at this stage we are not running the optimization, we are just initializing the different elements of the BO algorithm. "
   ]
  },
  {
   "cell_type": "code",
   "execution_count": null,
   "metadata": {},
   "outputs": [],
   "source": [
    "from emukit.bayesian_optimization.loops import BayesianOptimizationLoop\n",
    "\n",
    "# Creation of the object that we will use to run BO.\n",
    "myBopt = BayesianOptimizationLoop(space=bounds, model=emukit_model)"
   ]
  },
  {
   "cell_type": "code",
   "execution_count": null,
   "metadata": {},
   "outputs": [],
   "source": [
    "?BayesianOptimizationLoop"
   ]
  },
  {
   "cell_type": "markdown",
   "metadata": {},
   "source": [
    "You will find that the optimisation loop state is already initialized, although with just the random initial locations."
   ]
  },
  {
   "cell_type": "code",
   "execution_count": null,
   "metadata": {},
   "outputs": [],
   "source": [
    "myBopt.loop_state.X"
   ]
  },
  {
   "cell_type": "code",
   "execution_count": null,
   "metadata": {},
   "outputs": [],
   "source": [
    "myBopt.loop_state.Y"
   ]
  },
  {
   "cell_type": "markdown",
   "metadata": {},
   "source": [
    "Now we can run the optimisation loop itself for several iterations."
   ]
  },
  {
   "cell_type": "code",
   "execution_count": null,
   "metadata": {},
   "outputs": [],
   "source": [
    "max_iter = 10\n",
    "myBopt.run_loop(user_function=f_objective, stopping_condition=max_iter)"
   ]
  },
  {
   "cell_type": "markdown",
   "metadata": {},
   "source": [
    "And that's it! We can re-inspect the loop state to see if it contains new data, and visualize the model and the acquisition function."
   ]
  },
  {
   "cell_type": "code",
   "execution_count": null,
   "metadata": {},
   "outputs": [],
   "source": [
    "myBopt.loop_state.X"
   ]
  },
  {
   "cell_type": "code",
   "execution_count": null,
   "metadata": {},
   "outputs": [],
   "source": [
    "myBopt.loop_state.Y"
   ]
  },
  {
   "cell_type": "code",
   "execution_count": null,
   "metadata": {},
   "outputs": [],
   "source": [
    "plot_acquisition(myBopt, bounds)"
   ]
  },
  {
   "cell_type": "markdown",
   "metadata": {},
   "source": [
    "You can only make the previous plot if the dimension of the problem is 1 or 2. However, you can always make a plot to see how the optimization evolved."
   ]
  },
  {
   "cell_type": "code",
   "execution_count": null,
   "metadata": {},
   "outputs": [],
   "source": [
    "plot_convergence(myBopt.loop_state.X, myBopt.loop_state.Y)"
   ]
  },
  {
   "cell_type": "markdown",
   "metadata": {},
   "source": [
    "The first plot shows the distance between the last two collected observations at each iteration. This plot is useful to evaluate the convergence of the method. The second plot shows the best found value at each iteration. It is useful to compare different methods. The fastest the curve decreases the better the method. "
   ]
  },
  {
   "cell_type": "markdown",
   "metadata": {},
   "source": [
    "### Exercise 1\n",
    "\n",
    "Use Bayesian optimization to find the minimum of the function $f(x)= x^2 + 10 \\sin(x)$ in the interval [-10, 10]. \n",
    "\n",
    "(a) Define the bounds of the problem, the function and check that it admits a numpy array of observations as input."
   ]
  },
  {
   "cell_type": "code",
   "execution_count": null,
   "metadata": {},
   "outputs": [],
   "source": []
  },
  {
   "cell_type": "markdown",
   "metadata": {},
   "source": [
    "(b) Create an Emukit object for global optimization using a Matern52 kernel. "
   ]
  },
  {
   "cell_type": "code",
   "execution_count": null,
   "metadata": {},
   "outputs": [],
   "source": []
  },
  {
   "cell_type": "markdown",
   "metadata": {},
   "source": [
    "(c) For stability reasons, constrain the noise of the model to be 10e-4. "
   ]
  },
  {
   "cell_type": "code",
   "execution_count": null,
   "metadata": {},
   "outputs": [],
   "source": []
  },
  {
   "cell_type": "markdown",
   "metadata": {},
   "source": [
    "(d) Run the optimization for 10 iterations. Make and comment the convergence plots. Has the method converged? "
   ]
  },
  {
   "cell_type": "code",
   "execution_count": null,
   "metadata": {},
   "outputs": [],
   "source": []
  },
  {
   "cell_type": "markdown",
   "metadata": {},
   "source": [
    "## 2. Acquisition functions\n",
    "\n",
    "In this section we are going to have a look to different acquisition functions. Emukit provides a variety of acquisition functions for Bayesian optimization, including the expected improvement ('EI') we already used, the probability of improvement ('PoI') and the lower confidence bound. Emukit uses EI by default, but any other acquisition functions can also be specified. In this section we will create these functions as separate objects and study their behavior."
   ]
  },
  {
   "cell_type": "code",
   "execution_count": null,
   "metadata": {},
   "outputs": [],
   "source": [
    "seed(1234)\n",
    "n = 10\n",
    "X = np.random.rand(n).reshape(n,1)\n",
    "Y = f_objective(X)\n",
    "m = GPy.models.GPRegression(X,Y)\n",
    "m.optimize()\n",
    "m.plot([0,1])\n",
    "\n",
    "## Now we pass this model into a GPyOpt Gaussian process model\n",
    "\n",
    "from emukit.model_wrappers import GPyModelWrapper\n",
    "model = GPyModelWrapper(m, n_restarts=5)"
   ]
  },
  {
   "cell_type": "markdown",
   "metadata": {},
   "source": [
    "We define the bounds of the input space to be between zero and one."
   ]
  },
  {
   "cell_type": "code",
   "execution_count": null,
   "metadata": {},
   "outputs": [],
   "source": [
    "space = ParameterSpace([\n",
    "    ContinuousParameter('var_1', 0.0, 1.0)\n",
    "])"
   ]
  },
  {
   "cell_type": "markdown",
   "metadata": {},
   "source": [
    "Now let's import and create the acquisition function objects."
   ]
  },
  {
   "cell_type": "code",
   "execution_count": null,
   "metadata": {},
   "outputs": [],
   "source": [
    "from emukit.bayesian_optimization.acquisitions import ExpectedImprovement, ProbabilityOfImprovement, NegativeLowerConfidenceBound"
   ]
  },
  {
   "cell_type": "code",
   "execution_count": null,
   "metadata": {},
   "outputs": [],
   "source": [
    "acq_EI = ExpectedImprovement(model, jitter=0)\n",
    "acq_NLCB = NegativeLowerConfidenceBound(model, beta=2.0)\n",
    "acq_PI = ProbabilityOfImprovement(model, jitter=0)"
   ]
  },
  {
   "cell_type": "markdown",
   "metadata": {},
   "source": [
    "The objects `acq_EI`, `acq_NLCB`, `acq_PI` contain the acquisition functions and their gradients. By running the following piece of code you can visualize the three acquisitions. In this plot, the larger is the value of the acquisition, the better is the point."
   ]
  },
  {
   "cell_type": "code",
   "execution_count": null,
   "metadata": {},
   "outputs": [],
   "source": [
    "# Plot the three acquisition functions (factor 0.1 added in in the LCB for visualization)\n",
    "X_grid = np.linspace(0,1,200)[:, None]\n",
    "plt.figure(figsize=(10,6))\n",
    "plt.title('Acquisition functions')\n",
    "plt.plot(X_grid, 0.1*acq_NLCB.evaluate(X_grid), label='NLCB')\n",
    "plt.plot(X_grid, acq_EI.evaluate(X_grid), label='EI')\n",
    "plt.plot(X_grid, acq_PI.evaluate(X_grid), label='PI')\n",
    "plt.xlabel('x')\n",
    "plt.ylabel('$alpha(x)$')\n",
    "plt.legend();"
   ]
  },
  {
   "cell_type": "markdown",
   "metadata": {},
   "source": [
    "### Exercise 2\n",
    "\n",
    "(a) According to the previous plot, what areas in the domain are worth exploring and why? How can we interpret the previous plot in terms of the exploration/exploitation trade off of each one of the three acquisitions?"
   ]
  },
  {
   "cell_type": "markdown",
   "metadata": {},
   "source": []
  },
  {
   "cell_type": "code",
   "execution_count": null,
   "metadata": {},
   "outputs": [],
   "source": []
  },
  {
   "cell_type": "markdown",
   "metadata": {},
   "source": [
    "(b) Now make a plot comparing the shape of the NLCB acquisition (of GP-UCB in the literature) with values different values of the beta parameter. Use the values $[0,0.1,0.25,0.5,1,2,5]$. How does the decision about where to collect the sample change when we increase the value of the parameter?"
   ]
  },
  {
   "cell_type": "code",
   "execution_count": null,
   "metadata": {},
   "outputs": [],
   "source": []
  },
  {
   "cell_type": "markdown",
   "metadata": {},
   "source": [
    "### Exercise 3\n",
    "\n",
    "Consider the sixhumpcamel function defined as\n",
    "$$f(x_1,x_2) = \\left(4-2.1x_1^2 + \\frac{x_1^4}{3} \\right)x_1^2 + x_1x_2 + (-4 +4x_2^2)x_2^2,$$\n",
    "\n",
    "in $[-2,2]\\times [-1,1]$. This function has two global minima, at $(0.0898,-0.7126)$ and $(-0.0898,0.7126)$. This function is also implemented in Emukit so, to load and visualize it simply run:"
   ]
  },
  {
   "cell_type": "code",
   "execution_count": null,
   "metadata": {},
   "outputs": [],
   "source": [
    "from emukit.test_functions import sixhumpcamel_function\n",
    "f_shc, space_shc = sixhumpcamel_function()"
   ]
  },
  {
   "cell_type": "markdown",
   "metadata": {},
   "source": [
    "(a) Create three objects to optimize this function using EI (with parameter equal to zero), NLCB (with parameter equal to 2) and PI (with parameter equal to zero). Use the same initial data in the three cases."
   ]
  },
  {
   "cell_type": "code",
   "execution_count": null,
   "metadata": {},
   "outputs": [],
   "source": []
  },
  {
   "cell_type": "markdown",
   "metadata": {},
   "source": [
    "(b) In the three cases run the optimization for 30 iterations"
   ]
  },
  {
   "cell_type": "code",
   "execution_count": null,
   "metadata": {},
   "outputs": [],
   "source": []
  },
  {
   "cell_type": "markdown",
   "metadata": {},
   "source": [
    "(c) Now make a plot comparing the three methods. The x axis should contain the number of iterations and y axis the best found value. Which acquisition has the best performance in this example?"
   ]
  },
  {
   "cell_type": "code",
   "execution_count": null,
   "metadata": {},
   "outputs": [],
   "source": []
  },
  {
   "cell_type": "markdown",
   "metadata": {},
   "source": [
    "(d) Compare the models and the acquisition functions in the three cases (after the 30 iterations). What do you observe? "
   ]
  },
  {
   "cell_type": "code",
   "execution_count": null,
   "metadata": {},
   "outputs": [],
   "source": []
  },
  {
   "cell_type": "markdown",
   "metadata": {},
   "source": [
    "---\n",
    "### Credit\n",
    "\n",
    "This notebook was written by Andrei Paleyes, adopted from the earlier GPyOpt version written by Javier Gonzalez."
   ]
  }
 ],
 "metadata": {
  "kernelspec": {
   "display_name": "Python 3.9.13 ('gpss2022')",
   "language": "python",
   "name": "python3"
  },
  "language_info": {
   "codemirror_mode": {
    "name": "ipython",
    "version": 3
   },
   "file_extension": ".py",
   "mimetype": "text/x-python",
   "name": "python",
   "nbconvert_exporter": "python",
   "pygments_lexer": "ipython3",
   "version": "3.8.17"
  },
  "vscode": {
   "interpreter": {
    "hash": "4bfe1e5dd9939245461467125fadee798eada0d20a3e82843b00f473a2da8c8c"
   }
  }
 },
 "nbformat": 4,
 "nbformat_minor": 2
}
